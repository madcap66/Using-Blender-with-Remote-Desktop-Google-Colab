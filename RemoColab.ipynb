{
  "nbformat": 4,
  "nbformat_minor": 0,
  "metadata": {
    "colab": {
      "name": "RemoColab.ipynb",
      "provenance": [],
      "collapsed_sections": [
        "-sSL-avnCVRW"
      ],
      "toc_visible": true
    },
    "kernelspec": {
      "name": "python3",
      "display_name": "Python 3"
    },
    "accelerator": "GPU"
  },
  "cells": [
    {
      "cell_type": "markdown",
      "metadata": {
        "id": "iqBhDTWwHjTq"
      },
      "source": [
        "[![Open In Colab](https://colab.research.google.com/assets/colab-badge.svg)](https://colab.research.google.com/github/sinatv52/Using-Blender-with-Remote-Desktop-Google-Colab/blob/main/RemoColab.ipynb)"
      ]
    },
    {
      "cell_type": "markdown",
      "metadata": {
        "id": "yHZlCGfqaNRr"
      },
      "source": [
        "\n",
        "\n",
        "#Remote Desktop Colab"
      ]
    },
    {
      "cell_type": "code",
      "metadata": {
        "id": "gEMTL3R9eAen"
      },
      "source": [
        "!nvidia-smi"
      ],
      "execution_count": null,
      "outputs": []
    },
    {
      "cell_type": "code",
      "metadata": {
        "id": "EV5Y2Xh6PR7D"
      },
      "source": [
        "!pip install git+https://github.com/demotomohiro/remocolab.git\n",
        "import remocolab\n",
        "remocolab.setupVNC()"
      ],
      "execution_count": null,
      "outputs": []
    },
    {
      "cell_type": "markdown",
      "metadata": {
        "id": "4knkPc-cCDoR"
      },
      "source": [
        "#Drive Mount"
      ]
    },
    {
      "cell_type": "code",
      "metadata": {
        "id": "yAPJYoTUugOQ"
      },
      "source": [
        "from google.colab import drive\n",
        "drive.mount('/content/drive')"
      ],
      "execution_count": null,
      "outputs": []
    },
    {
      "cell_type": "code",
      "metadata": {
        "id": "Z9MML9sye8hu"
      },
      "source": [
        "!cp /content/drive/My\\ Drive/SSSS/test.blend /content/"
      ],
      "execution_count": null,
      "outputs": []
    },
    {
      "cell_type": "code",
      "metadata": {
        "id": "W4fKmep9fHLE"
      },
      "source": [
        "!cp /content/*.png /content/drive/My\\ Drive/SSSS/"
      ],
      "execution_count": null,
      "outputs": []
    },
    {
      "cell_type": "markdown",
      "metadata": {
        "id": "-sSL-avnCVRW"
      },
      "source": [
        "#Extra Codes\n"
      ]
    },
    {
      "cell_type": "markdown",
      "metadata": {
        "id": "BQ-AApb9F9r_"
      },
      "source": [
        "NOTE : DO NOT RUN THEESE IN COLAB CELLs"
      ]
    },
    {
      "cell_type": "markdown",
      "metadata": {
        "id": "MBgG8b1LCf1t"
      },
      "source": [
        "##to Troll Colab\n"
      ]
    },
    {
      "cell_type": "code",
      "metadata": {
        "id": "S-c18CiNCUsr"
      },
      "source": [
        "function ClickConnect(){\n",
        "console.log(\"Working\"); \n",
        "document.querySelector(\"colab-toolbar-button\").click() \n",
        "}setInterval(ClickConnect,60000)"
      ],
      "execution_count": null,
      "outputs": []
    },
    {
      "cell_type": "markdown",
      "metadata": {
        "id": "4QshSLjECncM"
      },
      "source": [
        "## Firefox Setup\n"
      ]
    },
    {
      "cell_type": "code",
      "metadata": {
        "id": "bTVUxER4Cuc-"
      },
      "source": [
        "su\n",
        "apt install firefox\n",
        "exit\n",
        "vglrun firefox"
      ],
      "execution_count": null,
      "outputs": []
    },
    {
      "cell_type": "markdown",
      "metadata": {
        "id": "ozZ4tZLtFisG"
      },
      "source": [
        "##blender setup\n"
      ]
    },
    {
      "cell_type": "code",
      "metadata": {
        "id": "YVl67oltFmPh"
      },
      "source": [
        "tar xf filename\n",
        "vglrun ./blender"
      ],
      "execution_count": null,
      "outputs": []
    }
  ]
}
